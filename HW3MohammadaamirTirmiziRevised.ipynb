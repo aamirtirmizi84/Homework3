{
  "nbformat": 4,
  "nbformat_minor": 0,
  "metadata": {
    "colab": {
      "provenance": []
    },
    "kernelspec": {
      "name": "python3",
      "display_name": "Python 3"
    },
    "language_info": {
      "name": "python"
    }
  },
  "cells": [
    {
      "cell_type": "code",
      "source": [
        "import seaborn as sns"
      ],
      "metadata": {
        "id": "Q1EaDqF4ZgUF"
      },
      "execution_count": 1,
      "outputs": []
    },
    {
      "cell_type": "code",
      "execution_count": 2,
      "metadata": {
        "id": "_PRubvTVwF3E"
      },
      "outputs": [],
      "source": [
        "import pandas as pd\n",
        "import matplotlib.pyplot as plt\n",
        "import numpy as np"
      ]
    },
    {
      "cell_type": "code",
      "source": [
        "df = pd.read_csv('https://raw.githubusercontent.com/aamirtirmizi84/Homework3/main/faithful.csv')"
      ],
      "metadata": {
        "id": "-FJIa_bexoDh"
      },
      "execution_count": 3,
      "outputs": []
    },
    {
      "cell_type": "code",
      "source": [
        "df.tail()"
      ],
      "metadata": {
        "colab": {
          "base_uri": "https://localhost:8080/",
          "height": 206
        },
        "id": "ORNx1uyfyjWo",
        "outputId": "7fb13cfa-f89e-498e-b66e-489b6f50e4ec"
      },
      "execution_count": 4,
      "outputs": [
        {
          "output_type": "execute_result",
          "data": {
            "text/plain": [
              "     eruptions  waiting\n",
              "267      4.117       81\n",
              "268      2.150       46\n",
              "269      4.417       90\n",
              "270      1.817       46\n",
              "271      4.467       74"
            ],
            "text/html": [
              "\n",
              "  <div id=\"df-3d9fb3df-09f1-4ed1-b98a-3631c2962738\">\n",
              "    <div class=\"colab-df-container\">\n",
              "      <div>\n",
              "<style scoped>\n",
              "    .dataframe tbody tr th:only-of-type {\n",
              "        vertical-align: middle;\n",
              "    }\n",
              "\n",
              "    .dataframe tbody tr th {\n",
              "        vertical-align: top;\n",
              "    }\n",
              "\n",
              "    .dataframe thead th {\n",
              "        text-align: right;\n",
              "    }\n",
              "</style>\n",
              "<table border=\"1\" class=\"dataframe\">\n",
              "  <thead>\n",
              "    <tr style=\"text-align: right;\">\n",
              "      <th></th>\n",
              "      <th>eruptions</th>\n",
              "      <th>waiting</th>\n",
              "    </tr>\n",
              "  </thead>\n",
              "  <tbody>\n",
              "    <tr>\n",
              "      <th>267</th>\n",
              "      <td>4.117</td>\n",
              "      <td>81</td>\n",
              "    </tr>\n",
              "    <tr>\n",
              "      <th>268</th>\n",
              "      <td>2.150</td>\n",
              "      <td>46</td>\n",
              "    </tr>\n",
              "    <tr>\n",
              "      <th>269</th>\n",
              "      <td>4.417</td>\n",
              "      <td>90</td>\n",
              "    </tr>\n",
              "    <tr>\n",
              "      <th>270</th>\n",
              "      <td>1.817</td>\n",
              "      <td>46</td>\n",
              "    </tr>\n",
              "    <tr>\n",
              "      <th>271</th>\n",
              "      <td>4.467</td>\n",
              "      <td>74</td>\n",
              "    </tr>\n",
              "  </tbody>\n",
              "</table>\n",
              "</div>\n",
              "      <button class=\"colab-df-convert\" onclick=\"convertToInteractive('df-3d9fb3df-09f1-4ed1-b98a-3631c2962738')\"\n",
              "              title=\"Convert this dataframe to an interactive table.\"\n",
              "              style=\"display:none;\">\n",
              "        \n",
              "  <svg xmlns=\"http://www.w3.org/2000/svg\" height=\"24px\"viewBox=\"0 0 24 24\"\n",
              "       width=\"24px\">\n",
              "    <path d=\"M0 0h24v24H0V0z\" fill=\"none\"/>\n",
              "    <path d=\"M18.56 5.44l.94 2.06.94-2.06 2.06-.94-2.06-.94-.94-2.06-.94 2.06-2.06.94zm-11 1L8.5 8.5l.94-2.06 2.06-.94-2.06-.94L8.5 2.5l-.94 2.06-2.06.94zm10 10l.94 2.06.94-2.06 2.06-.94-2.06-.94-.94-2.06-.94 2.06-2.06.94z\"/><path d=\"M17.41 7.96l-1.37-1.37c-.4-.4-.92-.59-1.43-.59-.52 0-1.04.2-1.43.59L10.3 9.45l-7.72 7.72c-.78.78-.78 2.05 0 2.83L4 21.41c.39.39.9.59 1.41.59.51 0 1.02-.2 1.41-.59l7.78-7.78 2.81-2.81c.8-.78.8-2.07 0-2.86zM5.41 20L4 18.59l7.72-7.72 1.47 1.35L5.41 20z\"/>\n",
              "  </svg>\n",
              "      </button>\n",
              "      \n",
              "  <style>\n",
              "    .colab-df-container {\n",
              "      display:flex;\n",
              "      flex-wrap:wrap;\n",
              "      gap: 12px;\n",
              "    }\n",
              "\n",
              "    .colab-df-convert {\n",
              "      background-color: #E8F0FE;\n",
              "      border: none;\n",
              "      border-radius: 50%;\n",
              "      cursor: pointer;\n",
              "      display: none;\n",
              "      fill: #1967D2;\n",
              "      height: 32px;\n",
              "      padding: 0 0 0 0;\n",
              "      width: 32px;\n",
              "    }\n",
              "\n",
              "    .colab-df-convert:hover {\n",
              "      background-color: #E2EBFA;\n",
              "      box-shadow: 0px 1px 2px rgba(60, 64, 67, 0.3), 0px 1px 3px 1px rgba(60, 64, 67, 0.15);\n",
              "      fill: #174EA6;\n",
              "    }\n",
              "\n",
              "    [theme=dark] .colab-df-convert {\n",
              "      background-color: #3B4455;\n",
              "      fill: #D2E3FC;\n",
              "    }\n",
              "\n",
              "    [theme=dark] .colab-df-convert:hover {\n",
              "      background-color: #434B5C;\n",
              "      box-shadow: 0px 1px 3px 1px rgba(0, 0, 0, 0.15);\n",
              "      filter: drop-shadow(0px 1px 2px rgba(0, 0, 0, 0.3));\n",
              "      fill: #FFFFFF;\n",
              "    }\n",
              "  </style>\n",
              "\n",
              "      <script>\n",
              "        const buttonEl =\n",
              "          document.querySelector('#df-3d9fb3df-09f1-4ed1-b98a-3631c2962738 button.colab-df-convert');\n",
              "        buttonEl.style.display =\n",
              "          google.colab.kernel.accessAllowed ? 'block' : 'none';\n",
              "\n",
              "        async function convertToInteractive(key) {\n",
              "          const element = document.querySelector('#df-3d9fb3df-09f1-4ed1-b98a-3631c2962738');\n",
              "          const dataTable =\n",
              "            await google.colab.kernel.invokeFunction('convertToInteractive',\n",
              "                                                     [key], {});\n",
              "          if (!dataTable) return;\n",
              "\n",
              "          const docLinkHtml = 'Like what you see? Visit the ' +\n",
              "            '<a target=\"_blank\" href=https://colab.research.google.com/notebooks/data_table.ipynb>data table notebook</a>'\n",
              "            + ' to learn more about interactive tables.';\n",
              "          element.innerHTML = '';\n",
              "          dataTable['output_type'] = 'display_data';\n",
              "          await google.colab.output.renderOutput(dataTable, element);\n",
              "          const docLink = document.createElement('div');\n",
              "          docLink.innerHTML = docLinkHtml;\n",
              "          element.appendChild(docLink);\n",
              "        }\n",
              "      </script>\n",
              "    </div>\n",
              "  </div>\n",
              "  "
            ]
          },
          "metadata": {},
          "execution_count": 4
        }
      ]
    },
    {
      "cell_type": "code",
      "source": [
        "x = df['eruptions']\n",
        "y = df['waiting']"
      ],
      "metadata": {
        "id": "ENgi-Qe12H-I"
      },
      "execution_count": 5,
      "outputs": []
    },
    {
      "cell_type": "code",
      "source": [
        "plt.scatter(x,y)\n",
        "plt.show()\n",
        "# here I see two clusters "
      ],
      "metadata": {
        "colab": {
          "base_uri": "https://localhost:8080/",
          "height": 265
        },
        "id": "SshQQAS01Cby",
        "outputId": "b0b9eb71-9903-43a3-e6c6-3b8d01f50682"
      },
      "execution_count": 6,
      "outputs": [
        {
          "output_type": "display_data",
          "data": {
            "text/plain": [
              "<Figure size 432x288 with 1 Axes>"
            ],
            "image/png": "[encoded data removed]"
          },
          "metadata": {
            "needs_background": "light"
          }
        }
      ]
    },
    {
      "cell_type": "code",
      "source": [
        "plt.scatter(x, y, c='green')\n",
        "plt.show()"
      ],
      "metadata": {
        "colab": {
          "base_uri": "https://localhost:8080/",
          "height": 265
        },
        "id": "PxmgagCW1nuh",
        "outputId": "011b2fb0-3d8f-40b6-fe01-20201e2f177d"
      },
      "execution_count": 7,
      "outputs": [
        {
          "output_type": "display_data",
          "data": {
            "text/plain": [
              "<Figure size 432x288 with 1 Axes>"
            ],
            "image/png": "[encoded data removed]"
          },
          "metadata": {
            "needs_background": "light"
          }
        }
      ]
    },
    {
      "cell_type": "code",
      "source": [],
      "metadata": {
        "id": "csSytXhGUkHr"
      },
      "execution_count": 7,
      "outputs": []
    },
    {
      "cell_type": "markdown",
      "source": [
        "How many clusters do you see based on your scatter plot? For the purposes of this question, a cluster is a “blob” of many data points that are close together, with regions of fewer data points between it and other “blobs”/clusters\n",
        "\n",
        "In the scatter plot, there are two clusters visible."
      ],
      "metadata": {
        "id": "Z1CsZpCaUkog"
      }
    },
    {
      "cell_type": "markdown",
      "source": [
        "Describe the steps of a hierarchical clustering algorithm. Based on your scatter plot, would this method be appropriate for this dataset?\n",
        "\n",
        "In hierarchical clustering, each record is treated as a separate cluster, after which the distance between them is determined; when the distance is very little, they are treated as one cluster, and so on until the required number of clusters are obtained."
      ],
      "metadata": {
        "id": "HgaytS0VU0N1"
      }
    },
    {
      "cell_type": "code",
      "source": [
        "class KMeans:\n",
        "    def __init__(self, k=2, x=0.001, iterations=300):\n",
        "        self.k = k\n",
        "        self.x = x\n",
        "        self.iterations = iterations\n",
        "\n",
        "    def fit(self,data):\n",
        "\n",
        "        self.centroids = {}\n",
        "\n",
        "        for i in range(self.k):\n",
        "            self.centroids[i] = data[i]\n",
        "\n",
        "        for i in range(self.iterations):\n",
        "            self.cf = {}\n",
        "\n",
        "            for i in range(self.k):\n",
        "                self.cf[i] = []\n",
        "\n",
        "            for f in data:\n",
        "                distances = [np.linalg.norm(f-self.centroids[centroid]) for centroid in self.centroids]\n",
        "                classification = distances.index(min(distances))\n",
        "                self.cf[classification].append(f)\n",
        "\n",
        "            prev_centroids = dict(self.centroids)\n",
        "\n",
        "            for classification in self.cf:\n",
        "                self.centroids[classification] = np.average(self.cf[classification],axis=0)\n",
        "\n",
        "            optimized = True\n",
        "\n",
        "            for c in self.centroids:\n",
        "                original_centroid = prev_centroids[c]\n",
        "                current_centroid = self.centroids[c]\n",
        "                if np.sum((current_centroid-original_centroid)/original_centroid*100.0) > self.x:\n",
        "                    print(np.sum((current_centroid-original_centroid)/original_centroid*100.0))\n",
        "                    optimized = False\n",
        "\n",
        "            if optimized:\n",
        "                break\n",
        "\n",
        "    def predict(self,data):\n",
        "        distances = [np.linalg.norm(data-self.centroids[centroid]) for centroid in self.centroids]\n",
        "        classification = distances.index(min(distances))\n",
        "        return classification\n"
      ],
      "metadata": {
        "id": "ohs1tNU62nhx"
      },
      "execution_count": 8,
      "outputs": []
    },
    {
      "cell_type": "markdown",
      "source": [
        "Reference : https://anderfernandez.com/en/blog/kmeans-algorithm-python/"
      ],
      "metadata": {
        "id": "JIw2GLFuaTyA"
      }
    },
    {
      "cell_type": "code",
      "source": [
        "df.values"
      ],
      "metadata": {
        "colab": {
          "base_uri": "https://localhost:8080/"
        },
        "id": "ivd4cpLzuOnO",
        "outputId": "2b0a541b-5032-4711-c3cd-c95762a7d549"
      },
      "execution_count": 9,
      "outputs": [
        {
          "output_type": "execute_result",
          "data": {
            "text/plain": [
              "array([[ 3.6  , 79.   ],\n",
              "       [ 1.8  , 54.   ],\n",
              "       [ 3.333, 74.   ],\n",
              "       [ 2.283, 62.   ],\n",
              "       [ 4.533, 85.   ],\n",
              "       [ 2.883, 55.   ],\n",
              "       [ 4.7  , 88.   ],\n",
              "       [ 3.6  , 85.   ],\n",
              "       [ 1.95 , 51.   ],\n",
              "       [ 4.35 , 85.   ],\n",
              "       [ 1.833, 54.   ],\n",
              "       [ 3.917, 84.   ],\n",
              "       [ 4.2  , 78.   ],\n",
              "       [ 1.75 , 47.   ],\n",
              "       [ 4.7  , 83.   ],\n",
              "       [ 2.167, 52.   ],\n",
              "       [ 1.75 , 62.   ],\n",
              "       [ 4.8  , 84.   ],\n",
              "       [ 1.6  , 52.   ],\n",
              "       [ 4.25 , 79.   ],\n",
              "       [ 1.8  , 51.   ],\n",
              "       [ 1.75 , 47.   ],\n",
              "       [ 3.45 , 78.   ],\n",
              "       [ 3.067, 69.   ],\n",
              "       [ 4.533, 74.   ],\n",
              "       [ 3.6  , 83.   ],\n",
              "       [ 1.967, 55.   ],\n",
              "       [ 4.083, 76.   ],\n",
              "       [ 3.85 , 78.   ],\n",
              "       [ 4.433, 79.   ],\n",
              "       [ 4.3  , 73.   ],\n",
              "       [ 4.467, 77.   ],\n",
              "       [ 3.367, 66.   ],\n",
              "       [ 4.033, 80.   ],\n",
              "       [ 3.833, 74.   ],\n",
              "       [ 2.017, 52.   ],\n",
              "       [ 1.867, 48.   ],\n",
              "       [ 4.833, 80.   ],\n",
              "       [ 1.833, 59.   ],\n",
              "       [ 4.783, 90.   ],\n",
              "       [ 4.35 , 80.   ],\n",
              "       [ 1.883, 58.   ],\n",
              "       [ 4.567, 84.   ],\n",
              "       [ 1.75 , 58.   ],\n",
              "       [ 4.533, 73.   ],\n",
              "       [ 3.317, 83.   ],\n",
              "       [ 3.833, 64.   ],\n",
              "       [ 2.1  , 53.   ],\n",
              "       [ 4.633, 82.   ],\n",
              "       [ 2.   , 59.   ],\n",
              "       [ 4.8  , 75.   ],\n",
              "       [ 4.716, 90.   ],\n",
              "       [ 1.833, 54.   ],\n",
              "       [ 4.833, 80.   ],\n",
              "       [ 1.733, 54.   ],\n",
              "       [ 4.883, 83.   ],\n",
              "       [ 3.717, 71.   ],\n",
              "       [ 1.667, 64.   ],\n",
              "       [ 4.567, 77.   ],\n",
              "       [ 4.317, 81.   ],\n",
              "       [ 2.233, 59.   ],\n",
              "       [ 4.5  , 84.   ],\n",
              "       [ 1.75 , 48.   ],\n",
              "       [ 4.8  , 82.   ],\n",
              "       [ 1.817, 60.   ],\n",
              "       [ 4.4  , 92.   ],\n",
              "       [ 4.167, 78.   ],\n",
              "       [ 4.7  , 78.   ],\n",
              "       [ 2.067, 65.   ],\n",
              "       [ 4.7  , 73.   ],\n",
              "       [ 4.033, 82.   ],\n",
              "       [ 1.967, 56.   ],\n",
              "       [ 4.5  , 79.   ],\n",
              "       [ 4.   , 71.   ],\n",
              "       [ 1.983, 62.   ],\n",
              "       [ 5.067, 76.   ],\n",
              "       [ 2.017, 60.   ],\n",
              "       [ 4.567, 78.   ],\n",
              "       [ 3.883, 76.   ],\n",
              "       [ 3.6  , 83.   ],\n",
              "       [ 4.133, 75.   ],\n",
              "       [ 4.333, 82.   ],\n",
              "       [ 4.1  , 70.   ],\n",
              "       [ 2.633, 65.   ],\n",
              "       [ 4.067, 73.   ],\n",
              "       [ 4.933, 88.   ],\n",
              "       [ 3.95 , 76.   ],\n",
              "       [ 4.517, 80.   ],\n",
              "       [ 2.167, 48.   ],\n",
              "       [ 4.   , 86.   ],\n",
              "       [ 2.2  , 60.   ],\n",
              "       [ 4.333, 90.   ],\n",
              "       [ 1.867, 50.   ],\n",
              "       [ 4.817, 78.   ],\n",
              "       [ 1.833, 63.   ],\n",
              "       [ 4.3  , 72.   ],\n",
              "       [ 4.667, 84.   ],\n",
              "       [ 3.75 , 75.   ],\n",
              "       [ 1.867, 51.   ],\n",
              "       [ 4.9  , 82.   ],\n",
              "       [ 2.483, 62.   ],\n",
              "       [ 4.367, 88.   ],\n",
              "       [ 2.1  , 49.   ],\n",
              "       [ 4.5  , 83.   ],\n",
              "       [ 4.05 , 81.   ],\n",
              "       [ 1.867, 47.   ],\n",
              "       [ 4.7  , 84.   ],\n",
              "       [ 1.783, 52.   ],\n",
              "       [ 4.85 , 86.   ],\n",
              "       [ 3.683, 81.   ],\n",
              "       [ 4.733, 75.   ],\n",
              "       [ 2.3  , 59.   ],\n",
              "       [ 4.9  , 89.   ],\n",
              "       [ 4.417, 79.   ],\n",
              "       [ 1.7  , 59.   ],\n",
              "       [ 4.633, 81.   ],\n",
              "       [ 2.317, 50.   ],\n",
              "       [ 4.6  , 85.   ],\n",
              "       [ 1.817, 59.   ],\n",
              "       [ 4.417, 87.   ],\n",
              "       [ 2.617, 53.   ],\n",
              "       [ 4.067, 69.   ],\n",
              "       [ 4.25 , 77.   ],\n",
              "       [ 1.967, 56.   ],\n",
              "       [ 4.6  , 88.   ],\n",
              "       [ 3.767, 81.   ],\n",
              "       [ 1.917, 45.   ],\n",
              "       [ 4.5  , 82.   ],\n",
              "       [ 2.267, 55.   ],\n",
              "       [ 4.65 , 90.   ],\n",
              "       [ 1.867, 45.   ],\n",
              "       [ 4.167, 83.   ],\n",
              "       [ 2.8  , 56.   ],\n",
              "       [ 4.333, 89.   ],\n",
              "       [ 1.833, 46.   ],\n",
              "       [ 4.383, 82.   ],\n",
              "       [ 1.883, 51.   ],\n",
              "       [ 4.933, 86.   ],\n",
              "       [ 2.033, 53.   ],\n",
              "       [ 3.733, 79.   ],\n",
              "       [ 4.233, 81.   ],\n",
              "       [ 2.233, 60.   ],\n",
              "       [ 4.533, 82.   ],\n",
              "       [ 4.817, 77.   ],\n",
              "       [ 4.333, 76.   ],\n",
              "       [ 1.983, 59.   ],\n",
              "       [ 4.633, 80.   ],\n",
              "       [ 2.017, 49.   ],\n",
              "       [ 5.1  , 96.   ],\n",
              "       [ 1.8  , 53.   ],\n",
              "       [ 5.033, 77.   ],\n",
              "       [ 4.   , 77.   ],\n",
              "       [ 2.4  , 65.   ],\n",
              "       [ 4.6  , 81.   ],\n",
              "       [ 3.567, 71.   ],\n",
              "       [ 4.   , 70.   ],\n",
              "       [ 4.5  , 81.   ],\n",
              "       [ 4.083, 93.   ],\n",
              "       [ 1.8  , 53.   ],\n",
              "       [ 3.967, 89.   ],\n",
              "       [ 2.2  , 45.   ],\n",
              "       [ 4.15 , 86.   ],\n",
              "       [ 2.   , 58.   ],\n",
              "       [ 3.833, 78.   ],\n",
              "       [ 3.5  , 66.   ],\n",
              "       [ 4.583, 76.   ],\n",
              "       [ 2.367, 63.   ],\n",
              "       [ 5.   , 88.   ],\n",
              "       [ 1.933, 52.   ],\n",
              "       [ 4.617, 93.   ],\n",
              "       [ 1.917, 49.   ],\n",
              "       [ 2.083, 57.   ],\n",
              "       [ 4.583, 77.   ],\n",
              "       [ 3.333, 68.   ],\n",
              "       [ 4.167, 81.   ],\n",
              "       [ 4.333, 81.   ],\n",
              "       [ 4.5  , 73.   ],\n",
              "       [ 2.417, 50.   ],\n",
              "       [ 4.   , 85.   ],\n",
              "       [ 4.167, 74.   ],\n",
              "       [ 1.883, 55.   ],\n",
              "       [ 4.583, 77.   ],\n",
              "       [ 4.25 , 83.   ],\n",
              "       [ 3.767, 83.   ],\n",
              "       [ 2.033, 51.   ],\n",
              "       [ 4.433, 78.   ],\n",
              "       [ 4.083, 84.   ],\n",
              "       [ 1.833, 46.   ],\n",
              "       [ 4.417, 83.   ],\n",
              "       [ 2.183, 55.   ],\n",
              "       [ 4.8  , 81.   ],\n",
              "       [ 1.833, 57.   ],\n",
              "       [ 4.8  , 76.   ],\n",
              "       [ 4.1  , 84.   ],\n",
              "       [ 3.966, 77.   ],\n",
              "       [ 4.233, 81.   ],\n",
              "       [ 3.5  , 87.   ],\n",
              "       [ 4.366, 77.   ],\n",
              "       [ 2.25 , 51.   ],\n",
              "       [ 4.667, 78.   ],\n",
              "       [ 2.1  , 60.   ],\n",
              "       [ 4.35 , 82.   ],\n",
              "       [ 4.133, 91.   ],\n",
              "       [ 1.867, 53.   ],\n",
              "       [ 4.6  , 78.   ],\n",
              "       [ 1.783, 46.   ],\n",
              "       [ 4.367, 77.   ],\n",
              "       [ 3.85 , 84.   ],\n",
              "       [ 1.933, 49.   ],\n",
              "       [ 4.5  , 83.   ],\n",
              "       [ 2.383, 71.   ],\n",
              "       [ 4.7  , 80.   ],\n",
              "       [ 1.867, 49.   ],\n",
              "       [ 3.833, 75.   ],\n",
              "       [ 3.417, 64.   ],\n",
              "       [ 4.233, 76.   ],\n",
              "       [ 2.4  , 53.   ],\n",
              "       [ 4.8  , 94.   ],\n",
              "       [ 2.   , 55.   ],\n",
              "       [ 4.15 , 76.   ],\n",
              "       [ 1.867, 50.   ],\n",
              "       [ 4.267, 82.   ],\n",
              "       [ 1.75 , 54.   ],\n",
              "       [ 4.483, 75.   ],\n",
              "       [ 4.   , 78.   ],\n",
              "       [ 4.117, 79.   ],\n",
              "       [ 4.083, 78.   ],\n",
              "       [ 4.267, 78.   ],\n",
              "       [ 3.917, 70.   ],\n",
              "       [ 4.55 , 79.   ],\n",
              "       [ 4.083, 70.   ],\n",
              "       [ 2.417, 54.   ],\n",
              "       [ 4.183, 86.   ],\n",
              "       [ 2.217, 50.   ],\n",
              "       [ 4.45 , 90.   ],\n",
              "       [ 1.883, 54.   ],\n",
              "       [ 1.85 , 54.   ],\n",
              "       [ 4.283, 77.   ],\n",
              "       [ 3.95 , 79.   ],\n",
              "       [ 2.333, 64.   ],\n",
              "       [ 4.15 , 75.   ],\n",
              "       [ 2.35 , 47.   ],\n",
              "       [ 4.933, 86.   ],\n",
              "       [ 2.9  , 63.   ],\n",
              "       [ 4.583, 85.   ],\n",
              "       [ 3.833, 82.   ],\n",
              "       [ 2.083, 57.   ],\n",
              "       [ 4.367, 82.   ],\n",
              "       [ 2.133, 67.   ],\n",
              "       [ 4.35 , 74.   ],\n",
              "       [ 2.2  , 54.   ],\n",
              "       [ 4.45 , 83.   ],\n",
              "       [ 3.567, 73.   ],\n",
              "       [ 4.5  , 73.   ],\n",
              "       [ 4.15 , 88.   ],\n",
              "       [ 3.817, 80.   ],\n",
              "       [ 3.917, 71.   ],\n",
              "       [ 4.45 , 83.   ],\n",
              "       [ 2.   , 56.   ],\n",
              "       [ 4.283, 79.   ],\n",
              "       [ 4.767, 78.   ],\n",
              "       [ 4.533, 84.   ],\n",
              "       [ 1.85 , 58.   ],\n",
              "       [ 4.25 , 83.   ],\n",
              "       [ 1.983, 43.   ],\n",
              "       [ 2.25 , 60.   ],\n",
              "       [ 4.75 , 75.   ],\n",
              "       [ 4.117, 81.   ],\n",
              "       [ 2.15 , 46.   ],\n",
              "       [ 4.417, 90.   ],\n",
              "       [ 1.817, 46.   ],\n",
              "       [ 4.467, 74.   ]])"
            ]
          },
          "metadata": {},
          "execution_count": 9
        }
      ]
    },
    {
      "cell_type": "code",
      "source": [
        "colors = [\"black\", \"green\" , \"blue\", \"red\"]\n",
        "\n",
        "def recalculate_clusters(X,centroids,k):\n",
        "    clusters=dict()\n",
        "    for i in range(k):\n",
        "        clusters[i]=[]\n",
        "    for data in X:\n",
        "        e_distance=[]\n",
        "        for j in range(k):\n",
        "            e_distance.append(np.linalg.norm(data - centroids[j]))\n",
        "        clusters[e_distance.index(min(e_distance))].append(data)\n",
        "    return clusters    \n",
        " \n",
        "def recalculate_centroids(centroids,clusters,k):\n",
        "    for i in range(k):\n",
        "        centroids[i]=np.average(clusters[i],axis=0)\n",
        "    return centroids\n",
        "\n",
        "def plot_clusters(centroids,clusters,k):\n",
        "    plt.figure(figsize=(10,8))  \n",
        "    area = (20)**2\n",
        "    for i in range(k):\n",
        "        for cluster in clusters[i]:\n",
        "            plt.scatter(cluster[0],cluster[1],c=colors[i % 3])          \n",
        "        plt.scatter(centroids[i][0],centroids[i][1],s=area,marker='^', edgecolors='white',c=colors[i % 3])"
      ],
      "metadata": {
        "id": "Q9iebE_Ta9QK"
      },
      "execution_count": 10,
      "outputs": []
    },
    {
      "cell_type": "code",
      "source": [
        "k=2\n",
        "X = df.values\n",
        "centroids={}\n",
        "for i in range(k):\n",
        "    centroids[i]=X[i]\n",
        "    \n",
        "for i in range(1):        \n",
        "    clusters=recalculate_clusters(X,centroids,k)  \n",
        "    centroids=recalculate_centroids(centroids,clusters,k)\n",
        "    plot_clusters(centroids,clusters,k)"
      ],
      "metadata": {
        "id": "TrnDveK3uWxZ",
        "outputId": "5cf12d38-ddb8-4691-f9c2-e7dc09f8a468",
        "colab": {
          "base_uri": "https://localhost:8080/",
          "height": 483
        }
      },
      "execution_count": 11,
      "outputs": [
        {
          "output_type": "display_data",
          "data": {
            "text/plain": [
              "<Figure size 720x576 with 1 Axes>"
            ],
            "image/png": "[encoded data removed]"
          },
          "metadata": {
            "needs_background": "light"
          }
        }
      ]
    },
    {
      "cell_type": "markdown",
      "source": [
        "Did the method manage to find the clusters that you identified in Problem 1? If not, did it help to run the method again with another random initialization? \n",
        "\n",
        "Yes the method has been beneficial in finding clusters in problem 1."
      ],
      "metadata": {
        "id": "13O_hvGQXlF1"
      }
    },
    {
      "cell_type": "code",
      "source": [
        "\n",
        "for k in range(1,10):\n",
        "  clusters=recalculate_clusters(X,centroids,k)  \n",
        "  centroids=recalculate_centroids(centroids,clusters,k)\n",
        "  plot_clusters(centroids,clusters,k)"
      ],
      "metadata": {
        "colab": {
          "base_uri": "https://localhost:8080/",
          "height": 1000
        },
        "id": "SJ_OqekbY1LY",
        "outputId": "b654f576-0e61-4a0d-fe42-5c9d83e78c05"
      },
      "execution_count": 17,
      "outputs": [
        {
          "output_type": "error",
          "ename": "KeyError",
          "evalue": "ignored",
          "traceback": [
            "\u001b[0;31m---------------------------------------------------------------------------\u001b[0m",
            "\u001b[0;31mKeyError\u001b[0m                                  Traceback (most recent call last)",
            "\u001b[0;32m<ipython-input-17-dd5693534788>\u001b[0m in \u001b[0;36m<module>\u001b[0;34m\u001b[0m\n\u001b[1;32m      1\u001b[0m \u001b[0;32mfor\u001b[0m \u001b[0mk\u001b[0m \u001b[0;32min\u001b[0m \u001b[0mrange\u001b[0m\u001b[0;34m(\u001b[0m\u001b[0;36m1\u001b[0m\u001b[0;34m,\u001b[0m\u001b[0;36m10\u001b[0m\u001b[0;34m)\u001b[0m\u001b[0;34m:\u001b[0m\u001b[0;34m\u001b[0m\u001b[0;34m\u001b[0m\u001b[0m\n\u001b[0;32m----> 2\u001b[0;31m   \u001b[0mclusters\u001b[0m\u001b[0;34m=\u001b[0m\u001b[0mrecalculate_clusters\u001b[0m\u001b[0;34m(\u001b[0m\u001b[0mX\u001b[0m\u001b[0;34m,\u001b[0m\u001b[0mcentroids\u001b[0m\u001b[0;34m,\u001b[0m\u001b[0mk\u001b[0m\u001b[0;34m)\u001b[0m\u001b[0;34m\u001b[0m\u001b[0;34m\u001b[0m\u001b[0m\n\u001b[0m\u001b[1;32m      3\u001b[0m   \u001b[0mcentroids\u001b[0m\u001b[0;34m=\u001b[0m\u001b[0mrecalculate_centroids\u001b[0m\u001b[0;34m(\u001b[0m\u001b[0mcentroids\u001b[0m\u001b[0;34m,\u001b[0m\u001b[0mclusters\u001b[0m\u001b[0;34m,\u001b[0m\u001b[0mk\u001b[0m\u001b[0;34m)\u001b[0m\u001b[0;34m\u001b[0m\u001b[0;34m\u001b[0m\u001b[0m\n\u001b[1;32m      4\u001b[0m   \u001b[0mplot_clusters\u001b[0m\u001b[0;34m(\u001b[0m\u001b[0mcentroids\u001b[0m\u001b[0;34m,\u001b[0m\u001b[0mclusters\u001b[0m\u001b[0;34m,\u001b[0m\u001b[0mk\u001b[0m\u001b[0;34m)\u001b[0m\u001b[0;34m\u001b[0m\u001b[0;34m\u001b[0m\u001b[0m\n\u001b[1;32m      5\u001b[0m   \u001b[0;31m# recalculate_centroids()\u001b[0m\u001b[0;34m\u001b[0m\u001b[0;34m\u001b[0m\u001b[0;34m\u001b[0m\u001b[0m\n",
            "\u001b[0;32m<ipython-input-10-675d10aa9990>\u001b[0m in \u001b[0;36mrecalculate_clusters\u001b[0;34m(X, centroids, k)\u001b[0m\n\u001b[1;32m      8\u001b[0m         \u001b[0me_distance\u001b[0m\u001b[0;34m=\u001b[0m\u001b[0;34m[\u001b[0m\u001b[0;34m]\u001b[0m\u001b[0;34m\u001b[0m\u001b[0;34m\u001b[0m\u001b[0m\n\u001b[1;32m      9\u001b[0m         \u001b[0;32mfor\u001b[0m \u001b[0mj\u001b[0m \u001b[0;32min\u001b[0m \u001b[0mrange\u001b[0m\u001b[0;34m(\u001b[0m\u001b[0mk\u001b[0m\u001b[0;34m)\u001b[0m\u001b[0;34m:\u001b[0m\u001b[0;34m\u001b[0m\u001b[0;34m\u001b[0m\u001b[0m\n\u001b[0;32m---> 10\u001b[0;31m             \u001b[0me_distance\u001b[0m\u001b[0;34m.\u001b[0m\u001b[0mappend\u001b[0m\u001b[0;34m(\u001b[0m\u001b[0mnp\u001b[0m\u001b[0;34m.\u001b[0m\u001b[0mlinalg\u001b[0m\u001b[0;34m.\u001b[0m\u001b[0mnorm\u001b[0m\u001b[0;34m(\u001b[0m\u001b[0mdata\u001b[0m \u001b[0;34m-\u001b[0m \u001b[0mcentroids\u001b[0m\u001b[0;34m[\u001b[0m\u001b[0mj\u001b[0m\u001b[0;34m]\u001b[0m\u001b[0;34m)\u001b[0m\u001b[0;34m)\u001b[0m\u001b[0;34m\u001b[0m\u001b[0;34m\u001b[0m\u001b[0m\n\u001b[0m\u001b[1;32m     11\u001b[0m         \u001b[0mclusters\u001b[0m\u001b[0;34m[\u001b[0m\u001b[0me_distance\u001b[0m\u001b[0;34m.\u001b[0m\u001b[0mindex\u001b[0m\u001b[0;34m(\u001b[0m\u001b[0mmin\u001b[0m\u001b[0;34m(\u001b[0m\u001b[0me_distance\u001b[0m\u001b[0;34m)\u001b[0m\u001b[0;34m)\u001b[0m\u001b[0;34m]\u001b[0m\u001b[0;34m.\u001b[0m\u001b[0mappend\u001b[0m\u001b[0;34m(\u001b[0m\u001b[0mdata\u001b[0m\u001b[0;34m)\u001b[0m\u001b[0;34m\u001b[0m\u001b[0;34m\u001b[0m\u001b[0m\n\u001b[1;32m     12\u001b[0m     \u001b[0;32mreturn\u001b[0m \u001b[0mclusters\u001b[0m\u001b[0;34m\u001b[0m\u001b[0;34m\u001b[0m\u001b[0m\n",
            "\u001b[0;31mKeyError\u001b[0m: 2"
          ]
        },
        {
          "output_type": "display_data",
          "data": {
            "text/plain": [
              "<Figure size 720x576 with 1 Axes>"
            ],
            "image/png": "[encoded data removed]"
          },
          "metadata": {
            "needs_background": "light"
          }
        },
        {
          "output_type": "display_data",
          "data": {
            "text/plain": [
              "<Figure size 720x576 with 1 Axes>"
            ],
            "image/png": "[encoded data removed]"
          },
          "metadata": {
            "needs_background": "light"
          }
        }
      ]
    },
    {
      "cell_type": "code",
      "source": [],
      "metadata": {
        "id": "UqeReI5MaIvU"
      },
      "execution_count": null,
      "outputs": []
    }
  ]
}